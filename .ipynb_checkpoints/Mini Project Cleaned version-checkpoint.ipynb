{
 "cells": [
  {
   "cell_type": "markdown",
   "id": "03630725",
   "metadata": {},
   "source": [
    "<center> <span style=\"font-size:30px;\"><span style=\"color:black;\"><b>SC1015 Mini Project</b></span></span> </center>\n",
    "<br>\n",
    "<center> <span style=\"font-size:30px;\"><span style=\"color:black;\"><b>Heart Disease Predictor</b></span></span> </center>\n"
   ]
  },
  {
   "cell_type": "markdown",
   "id": "1a2f4bd7",
   "metadata": {},
   "source": [
    "# Importing of Required Libraries"
   ]
  },
  {
   "cell_type": "code",
   "execution_count": null,
   "id": "d2cc8fb6",
   "metadata": {},
   "outputs": [],
   "source": [
    "# Basic Libraries\n",
    "import numpy as np\n",
    "import pandas as pd\n",
    "import seaborn as sb\n",
    "import matplotlib.pyplot as plt # we only need pyplot\n",
    "sb.set() # set the default Seaborn style for graphics\n",
    "import plotly_express as px\n",
    "\n",
    "from sklearn.impute import SimpleImputer\n",
    "from sklearn.model_selection import train_test_split\n",
    "from sklearn.preprocessing import MinMaxScaler\n",
    "from sklearn.pipeline import make_pipeline\n",
    "from sklearn.dummy import DummyClassifier\n",
    "\n",
    "from sklearn.linear_model import LogisticRegression\n",
    "from sklearn.tree import DecisionTreeClassifier\n",
    "from sklearn.ensemble import RandomForestClassifier\n",
    "from sklearn.svm import SVC\n",
    "\n",
    "from sklearn.metrics import accuracy_score , ConfusionMatrixDisplay , classification_report\n",
    "import warnings\n"
   ]
  },
  {
   "cell_type": "markdown",
   "id": "016c9771",
   "metadata": {},
   "source": [
    "# 1. Analyse of Data\n",
    "For our mini-project we will be using the FramingHam data set from Kaggle. The aim of this project is to predict if a patient has a 10 years risk of future (CHD) coronary heart disease.\n",
    "<br>\n",
    "We will begin by importing the data and going through the variables in the data set"
   ]
  },
  {
   "cell_type": "markdown",
   "id": "28b9a3c5",
   "metadata": {},
   "source": [
    "heartData = pd.read_csv('framingham.csv')\n",
    "heartData.head()"
   ]
  },
  {
   "cell_type": "code",
   "execution_count": null,
   "id": "cfa8c750",
   "metadata": {},
   "outputs": [],
   "source": [
    "# Information about the Variables\n",
    "heartData.info()\n",
    "heartData.shape"
   ]
  },
  {
   "cell_type": "code",
   "execution_count": null,
   "id": "15c9c3c6",
   "metadata": {},
   "outputs": [],
   "source": [
    "heartData.describe()"
   ]
  },
  {
   "cell_type": "markdown",
   "id": "e70d2d20",
   "metadata": {},
   "source": [
    "# 2. Cleaning/Preprocessing of Data"
   ]
  },
  {
   "cell_type": "code",
   "execution_count": null,
   "id": "e5f45878",
   "metadata": {},
   "outputs": [],
   "source": []
  },
  {
   "cell_type": "code",
   "execution_count": null,
   "id": "9dc56b76",
   "metadata": {},
   "outputs": [],
   "source": []
  },
  {
   "cell_type": "markdown",
   "id": "0314f2e1",
   "metadata": {},
   "source": [
    "# 3. Exploratory Analysis\n",
    "Now we have a processed data set, we will start by finding out which variables play a strong factor in determining the final prediction result.\n",
    "<br>\n",
    "First lets explore each variables by generating various graphs.\n"
   ]
  },
  {
   "cell_type": "code",
   "execution_count": null,
   "id": "b2241057",
   "metadata": {},
   "outputs": [],
   "source": []
  },
  {
   "cell_type": "code",
   "execution_count": null,
   "id": "0cdd745a",
   "metadata": {},
   "outputs": [],
   "source": []
  },
  {
   "cell_type": "markdown",
   "id": "48b366c5",
   "metadata": {},
   "source": [
    "We will generate a correlation matrix to evaluate the relationship between every variables in the data set by looking at its correlation coefficient."
   ]
  },
  {
   "cell_type": "code",
   "execution_count": null,
   "id": "da957ab3",
   "metadata": {},
   "outputs": [],
   "source": [
    "corr = heartData.drop(columns= 'TenYearCHD').corr()\n",
    "fig , ax = plt.subplots(figsize=(25 , 20))\n",
    "sb.heatmap(corr ,annot= True , ax=ax , cmap= 'Greens');"
   ]
  },
  {
   "cell_type": "code",
   "execution_count": null,
   "id": "754da8af",
   "metadata": {},
   "outputs": [],
   "source": []
  }
 ],
 "metadata": {
  "kernelspec": {
   "display_name": "Python 3 (ipykernel)",
   "language": "python",
   "name": "python3"
  },
  "language_info": {
   "codemirror_mode": {
    "name": "ipython",
    "version": 3
   },
   "file_extension": ".py",
   "mimetype": "text/x-python",
   "name": "python",
   "nbconvert_exporter": "python",
   "pygments_lexer": "ipython3",
   "version": "3.11.5"
  }
 },
 "nbformat": 4,
 "nbformat_minor": 5
}
